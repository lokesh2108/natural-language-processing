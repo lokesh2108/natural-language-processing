{
 "cells": [
  {
   "cell_type": "code",
   "execution_count": 19,
   "id": "d060e8e4",
   "metadata": {},
   "outputs": [
    {
     "name": "stdout",
     "output_type": "stream",
     "text": [
      "Requirement already satisfied: nltk in /Library/Frameworks/Python.framework/Versions/3.11/lib/python3.11/site-packages (3.0.0)\r\n"
     ]
    }
   ],
   "source": [
    "\n",
    "!pip3 install nltk\n",
    "\n"
   ]
  },
  {
   "cell_type": "code",
   "execution_count": 20,
   "id": "74bd55db",
   "metadata": {
    "scrolled": true
   },
   "outputs": [
    {
     "name": "stdout",
     "output_type": "stream",
     "text": [
      "Requirement already satisfied: pip in /Library/Frameworks/Python.framework/Versions/3.11/lib/python3.11/site-packages (24.2)\r\n"
     ]
    }
   ],
   "source": [
    "!pip3 install --upgrade pip"
   ]
  },
  {
   "cell_type": "code",
   "execution_count": 5,
   "id": "d096ffe9",
   "metadata": {},
   "outputs": [],
   "source": [
    "paragraph = \"\"\"Pichai began his career as a materials engineer. Following a short stint at the management consulting firm McKinsey & Co., Pichai joined Google in 2004,[9] where he led the product management and innovation efforts for a suite of Google's client software products, including Google Chrome and ChromeOS, as well as being largely responsible for Google Drive. In addition, he went on to oversee the development of other applications such as Gmail and Google Maps. In 2010, Pichai also announced the open-sourcing of the new video codec VP8 by Google and introduced the new video format, WebM. The Chromebook was released in 2012. In 2013, Pichai added Android to the list of Google products that he oversaw.\n",
    "\n",
    "Pichai was selected to become the next CEO of Google on August 10, 2015, after previously being appointed Product Chief by the then CEO Larry Page. On October 24, 2015, he stepped into the new position at the completion of the formation of Alphabet Inc., the new holding company for the Google company family. He was appointed to the Alphabet Board of Directors in 2017.[10]\n",
    "\n",
    "Pichai was included in Time's annual list of the 100 most influential people in 2016[11] and 2020.[12]\"\"\""
   ]
  },
  {
   "cell_type": "code",
   "execution_count": 6,
   "id": "4d6912e9",
   "metadata": {},
   "outputs": [
    {
     "data": {
      "text/plain": [
       "\"Pichai began his career as a materials engineer. Following a short stint at the management consulting firm McKinsey & Co., Pichai joined Google in 2004,[9] where he led the product management and innovation efforts for a suite of Google's client software products, including Google Chrome and ChromeOS, as well as being largely responsible for Google Drive. In addition, he went on to oversee the development of other applications such as Gmail and Google Maps. In 2010, Pichai also announced the open-sourcing of the new video codec VP8 by Google and introduced the new video format, WebM. The Chromebook was released in 2012. In 2013, Pichai added Android to the list of Google products that he oversaw.\\n\\nPichai was selected to become the next CEO of Google on August 10, 2015, after previously being appointed Product Chief by the then CEO Larry Page. On October 24, 2015, he stepped into the new position at the completion of the formation of Alphabet Inc., the new holding company for the Google company family. He was appointed to the Alphabet Board of Directors in 2017.[10]\\n\\nPichai was included in Time's annual list of the 100 most influential people in 2016[11] and 2020.[12]\""
      ]
     },
     "execution_count": 6,
     "metadata": {},
     "output_type": "execute_result"
    }
   ],
   "source": [
    "paragraph"
   ]
  },
  {
   "cell_type": "code",
   "execution_count": 1,
   "id": "a9d6fa8f",
   "metadata": {},
   "outputs": [
    {
     "name": "stdout",
     "output_type": "stream",
     "text": [
      "3.8.1\n"
     ]
    }
   ],
   "source": [
    "import nltk\n",
    "print(nltk.__version__)\n"
   ]
  },
  {
   "cell_type": "code",
   "execution_count": 2,
   "id": "fb7857ae",
   "metadata": {},
   "outputs": [],
   "source": [
    "import nltk\n",
    "from nltk.stem import PorterStemmer\n",
    "from nltk.corpus import stopwords"
   ]
  },
  {
   "cell_type": "code",
   "execution_count": 7,
   "id": "49e73134",
   "metadata": {
    "scrolled": true
   },
   "outputs": [
    {
     "name": "stderr",
     "output_type": "stream",
     "text": [
      "[nltk_data] Downloading package punkt to\n",
      "[nltk_data]     /Users/lokeshrengaraju/nltk_data...\n",
      "[nltk_data]   Package punkt is already up-to-date!\n"
     ]
    }
   ],
   "source": [
    "## Tokenization\n",
    "nltk.download('punkt') ## this is a package needed for using tokenization\n",
    "sentences = nltk.sent_tokenize(paragraph)"
   ]
  },
  {
   "cell_type": "code",
   "execution_count": 8,
   "id": "472127a5",
   "metadata": {},
   "outputs": [
    {
     "data": {
      "text/plain": [
       "['Pichai began his career as a materials engineer.',\n",
       " \"Following a short stint at the management consulting firm McKinsey & Co., Pichai joined Google in 2004,[9] where he led the product management and innovation efforts for a suite of Google's client software products, including Google Chrome and ChromeOS, as well as being largely responsible for Google Drive.\",\n",
       " 'In addition, he went on to oversee the development of other applications such as Gmail and Google Maps.',\n",
       " 'In 2010, Pichai also announced the open-sourcing of the new video codec VP8 by Google and introduced the new video format, WebM.',\n",
       " 'The Chromebook was released in 2012.',\n",
       " 'In 2013, Pichai added Android to the list of Google products that he oversaw.',\n",
       " 'Pichai was selected to become the next CEO of Google on August 10, 2015, after previously being appointed Product Chief by the then CEO Larry Page.',\n",
       " 'On October 24, 2015, he stepped into the new position at the completion of the formation of Alphabet Inc., the new holding company for the Google company family.',\n",
       " 'He was appointed to the Alphabet Board of Directors in 2017.',\n",
       " \"[10]\\n\\nPichai was included in Time's annual list of the 100 most influential people in 2016[11] and 2020.\",\n",
       " '[12]']"
      ]
     },
     "execution_count": 8,
     "metadata": {},
     "output_type": "execute_result"
    }
   ],
   "source": [
    "sentences"
   ]
  },
  {
   "cell_type": "code",
   "execution_count": 9,
   "id": "5ae3da27",
   "metadata": {},
   "outputs": [
    {
     "data": {
      "text/plain": [
       "list"
      ]
     },
     "execution_count": 9,
     "metadata": {},
     "output_type": "execute_result"
    }
   ],
   "source": [
    "type(sentences)"
   ]
  },
  {
   "cell_type": "code",
   "execution_count": 10,
   "id": "0be5407c",
   "metadata": {},
   "outputs": [],
   "source": [
    "stemmer = PorterStemmer()"
   ]
  },
  {
   "cell_type": "code",
   "execution_count": 13,
   "id": "89225dfa",
   "metadata": {},
   "outputs": [
    {
     "data": {
      "text/plain": [
       "'histori'"
      ]
     },
     "execution_count": 13,
     "metadata": {},
     "output_type": "execute_result"
    }
   ],
   "source": [
    "stemmer.stem('history')"
   ]
  },
  {
   "cell_type": "code",
   "execution_count": 20,
   "id": "79cae29b",
   "metadata": {},
   "outputs": [
    {
     "name": "stderr",
     "output_type": "stream",
     "text": [
      "[nltk_data] Downloading package wordnet to\n",
      "[nltk_data]     /Users/lokeshrengaraju/nltk_data...\n"
     ]
    },
    {
     "data": {
      "text/plain": [
       "True"
      ]
     },
     "execution_count": 20,
     "metadata": {},
     "output_type": "execute_result"
    }
   ],
   "source": [
    "nltk.download('wordnet')"
   ]
  },
  {
   "cell_type": "code",
   "execution_count": 21,
   "id": "171c0e2c",
   "metadata": {},
   "outputs": [],
   "source": [
    "from nltk.stem import WordNetLemmatizer\n"
   ]
  },
  {
   "cell_type": "code",
   "execution_count": 22,
   "id": "70b70008",
   "metadata": {},
   "outputs": [],
   "source": [
    "lemmatizer = WordNetLemmatizer()"
   ]
  },
  {
   "cell_type": "code",
   "execution_count": 26,
   "id": "30c680b2",
   "metadata": {},
   "outputs": [
    {
     "data": {
      "text/plain": [
       "'go'"
      ]
     },
     "execution_count": 26,
     "metadata": {},
     "output_type": "execute_result"
    }
   ],
   "source": [
    "lemmatizer.lemmatize('goes')"
   ]
  },
  {
   "cell_type": "code",
   "execution_count": 27,
   "id": "9acc0473",
   "metadata": {},
   "outputs": [],
   "source": [
    "## remove the special character using regular expression"
   ]
  },
  {
   "cell_type": "code",
   "execution_count": 28,
   "id": "446b29d4",
   "metadata": {},
   "outputs": [],
   "source": [
    "import re"
   ]
  },
  {
   "cell_type": "code",
   "execution_count": 56,
   "id": "89a33efa",
   "metadata": {},
   "outputs": [],
   "source": [
    "corpus =[]\n",
    "for i in range(len(sentences)):\n",
    "    review = re.sub(\"[^a-zA-Z]\",\" \",sentences[i])\n",
    "    review = review.lower()\n",
    "    corpus.append(review)"
   ]
  },
  {
   "cell_type": "code",
   "execution_count": 32,
   "id": "735edd35",
   "metadata": {},
   "outputs": [
    {
     "data": {
      "text/plain": [
       "['pichai began his career as a materials engineer ',\n",
       " 'following a short stint at the management consulting firm mckinsey   co   pichai joined google in          where he led the product management and innovation efforts for a suite of google s client software products  including google chrome and chromeos  as well as being largely responsible for google drive ',\n",
       " 'in addition  he went on to oversee the development of other applications such as gmail and google maps ',\n",
       " 'in       pichai also announced the open sourcing of the new video codec vp  by google and introduced the new video format  webm ',\n",
       " 'the chromebook was released in      ',\n",
       " 'in       pichai added android to the list of google products that he oversaw ',\n",
       " 'pichai was selected to become the next ceo of google on august           after previously being appointed product chief by the then ceo larry page ',\n",
       " 'on october           he stepped into the new position at the completion of the formation of alphabet inc   the new holding company for the google company family ',\n",
       " 'he was appointed to the alphabet board of directors in      ',\n",
       " '      pichai was included in time s annual list of the     most influential people in          and      ',\n",
       " '    ']"
      ]
     },
     "execution_count": 32,
     "metadata": {},
     "output_type": "execute_result"
    }
   ],
   "source": [
    "corpus"
   ]
  },
  {
   "cell_type": "code",
   "execution_count": 35,
   "id": "0cae12b5",
   "metadata": {},
   "outputs": [
    {
     "name": "stderr",
     "output_type": "stream",
     "text": [
      "[nltk_data] Downloading package stopwords to\n",
      "[nltk_data]     /Users/lokeshrengaraju/nltk_data...\n",
      "[nltk_data]   Unzipping corpora/stopwords.zip.\n"
     ]
    },
    {
     "data": {
      "text/plain": [
       "True"
      ]
     },
     "execution_count": 35,
     "metadata": {},
     "output_type": "execute_result"
    }
   ],
   "source": [
    "nltk.download('stopwords')"
   ]
  },
  {
   "cell_type": "code",
   "execution_count": 36,
   "id": "7a2af7eb",
   "metadata": {},
   "outputs": [
    {
     "data": {
      "text/plain": [
       "['i',\n",
       " 'me',\n",
       " 'my',\n",
       " 'myself',\n",
       " 'we',\n",
       " 'our',\n",
       " 'ours',\n",
       " 'ourselves',\n",
       " 'you',\n",
       " \"you're\",\n",
       " \"you've\",\n",
       " \"you'll\",\n",
       " \"you'd\",\n",
       " 'your',\n",
       " 'yours',\n",
       " 'yourself',\n",
       " 'yourselves',\n",
       " 'he',\n",
       " 'him',\n",
       " 'his',\n",
       " 'himself',\n",
       " 'she',\n",
       " \"she's\",\n",
       " 'her',\n",
       " 'hers',\n",
       " 'herself',\n",
       " 'it',\n",
       " \"it's\",\n",
       " 'its',\n",
       " 'itself',\n",
       " 'they',\n",
       " 'them',\n",
       " 'their',\n",
       " 'theirs',\n",
       " 'themselves',\n",
       " 'what',\n",
       " 'which',\n",
       " 'who',\n",
       " 'whom',\n",
       " 'this',\n",
       " 'that',\n",
       " \"that'll\",\n",
       " 'these',\n",
       " 'those',\n",
       " 'am',\n",
       " 'is',\n",
       " 'are',\n",
       " 'was',\n",
       " 'were',\n",
       " 'be',\n",
       " 'been',\n",
       " 'being',\n",
       " 'have',\n",
       " 'has',\n",
       " 'had',\n",
       " 'having',\n",
       " 'do',\n",
       " 'does',\n",
       " 'did',\n",
       " 'doing',\n",
       " 'a',\n",
       " 'an',\n",
       " 'the',\n",
       " 'and',\n",
       " 'but',\n",
       " 'if',\n",
       " 'or',\n",
       " 'because',\n",
       " 'as',\n",
       " 'until',\n",
       " 'while',\n",
       " 'of',\n",
       " 'at',\n",
       " 'by',\n",
       " 'for',\n",
       " 'with',\n",
       " 'about',\n",
       " 'against',\n",
       " 'between',\n",
       " 'into',\n",
       " 'through',\n",
       " 'during',\n",
       " 'before',\n",
       " 'after',\n",
       " 'above',\n",
       " 'below',\n",
       " 'to',\n",
       " 'from',\n",
       " 'up',\n",
       " 'down',\n",
       " 'in',\n",
       " 'out',\n",
       " 'on',\n",
       " 'off',\n",
       " 'over',\n",
       " 'under',\n",
       " 'again',\n",
       " 'further',\n",
       " 'then',\n",
       " 'once',\n",
       " 'here',\n",
       " 'there',\n",
       " 'when',\n",
       " 'where',\n",
       " 'why',\n",
       " 'how',\n",
       " 'all',\n",
       " 'any',\n",
       " 'both',\n",
       " 'each',\n",
       " 'few',\n",
       " 'more',\n",
       " 'most',\n",
       " 'other',\n",
       " 'some',\n",
       " 'such',\n",
       " 'no',\n",
       " 'nor',\n",
       " 'not',\n",
       " 'only',\n",
       " 'own',\n",
       " 'same',\n",
       " 'so',\n",
       " 'than',\n",
       " 'too',\n",
       " 'very',\n",
       " 's',\n",
       " 't',\n",
       " 'can',\n",
       " 'will',\n",
       " 'just',\n",
       " 'don',\n",
       " \"don't\",\n",
       " 'should',\n",
       " \"should've\",\n",
       " 'now',\n",
       " 'd',\n",
       " 'll',\n",
       " 'm',\n",
       " 'o',\n",
       " 're',\n",
       " 've',\n",
       " 'y',\n",
       " 'ain',\n",
       " 'aren',\n",
       " \"aren't\",\n",
       " 'couldn',\n",
       " \"couldn't\",\n",
       " 'didn',\n",
       " \"didn't\",\n",
       " 'doesn',\n",
       " \"doesn't\",\n",
       " 'hadn',\n",
       " \"hadn't\",\n",
       " 'hasn',\n",
       " \"hasn't\",\n",
       " 'haven',\n",
       " \"haven't\",\n",
       " 'isn',\n",
       " \"isn't\",\n",
       " 'ma',\n",
       " 'mightn',\n",
       " \"mightn't\",\n",
       " 'mustn',\n",
       " \"mustn't\",\n",
       " 'needn',\n",
       " \"needn't\",\n",
       " 'shan',\n",
       " \"shan't\",\n",
       " 'shouldn',\n",
       " \"shouldn't\",\n",
       " 'wasn',\n",
       " \"wasn't\",\n",
       " 'weren',\n",
       " \"weren't\",\n",
       " 'won',\n",
       " \"won't\",\n",
       " 'wouldn',\n",
       " \"wouldn't\"]"
      ]
     },
     "execution_count": 36,
     "metadata": {},
     "output_type": "execute_result"
    }
   ],
   "source": [
    "stopwords.words('english')"
   ]
  },
  {
   "cell_type": "code",
   "execution_count": 38,
   "id": "8c99baf0",
   "metadata": {},
   "outputs": [
    {
     "name": "stdout",
     "output_type": "stream",
     "text": [
      "pichai\n",
      "began\n",
      "career\n",
      "materi\n",
      "engin\n",
      "follow\n",
      "short\n",
      "stint\n",
      "manag\n",
      "consult\n",
      "firm\n",
      "mckinsey\n",
      "co\n",
      "pichai\n",
      "join\n",
      "googl\n",
      "led\n",
      "product\n",
      "manag\n",
      "innov\n",
      "effort\n",
      "suit\n",
      "googl\n",
      "client\n",
      "softwar\n",
      "product\n",
      "includ\n",
      "googl\n",
      "chrome\n",
      "chromeo\n",
      "well\n",
      "larg\n",
      "respons\n",
      "googl\n",
      "drive\n",
      "addit\n",
      "went\n",
      "overse\n",
      "develop\n",
      "applic\n",
      "gmail\n",
      "googl\n",
      "map\n",
      "pichai\n",
      "also\n",
      "announc\n",
      "open\n",
      "sourc\n",
      "new\n",
      "video\n",
      "codec\n",
      "vp\n",
      "googl\n",
      "introduc\n",
      "new\n",
      "video\n",
      "format\n",
      "webm\n",
      "chromebook\n",
      "releas\n",
      "pichai\n",
      "ad\n",
      "android\n",
      "list\n",
      "googl\n",
      "product\n",
      "oversaw\n",
      "pichai\n",
      "select\n",
      "becom\n",
      "next\n",
      "ceo\n",
      "googl\n",
      "august\n",
      "previous\n",
      "appoint\n",
      "product\n",
      "chief\n",
      "ceo\n",
      "larri\n",
      "page\n",
      "octob\n",
      "step\n",
      "new\n",
      "posit\n",
      "complet\n",
      "format\n",
      "alphabet\n",
      "inc\n",
      "new\n",
      "hold\n",
      "compani\n",
      "googl\n",
      "compani\n",
      "famili\n",
      "appoint\n",
      "alphabet\n",
      "board\n",
      "director\n",
      "pichai\n",
      "includ\n",
      "time\n",
      "annual\n",
      "list\n",
      "influenti\n",
      "peopl\n"
     ]
    }
   ],
   "source": [
    "# Stemming\n",
    "for i in corpus:\n",
    "    words = nltk.word_tokenize(i)\n",
    "    for word in words:\n",
    "        if word not in set(stopwords.words('english')):\n",
    "            print(stemmer.stem(word))\n",
    "        "
   ]
  },
  {
   "cell_type": "code",
   "execution_count": 41,
   "id": "345b050e",
   "metadata": {},
   "outputs": [
    {
     "name": "stdout",
     "output_type": "stream",
     "text": [
      "pichai\n",
      "began\n",
      "career\n",
      "material\n",
      "engineer\n",
      "following\n",
      "short\n",
      "stint\n",
      "management\n",
      "consulting\n",
      "firm\n",
      "mckinsey\n",
      "co\n",
      "pichai\n",
      "joined\n",
      "google\n",
      "led\n",
      "product\n",
      "management\n",
      "innovation\n",
      "effort\n",
      "suite\n",
      "google\n",
      "client\n",
      "software\n",
      "product\n",
      "including\n",
      "google\n",
      "chrome\n",
      "chromeos\n",
      "well\n",
      "largely\n",
      "responsible\n",
      "google\n",
      "drive\n",
      "addition\n",
      "went\n",
      "oversee\n",
      "development\n",
      "application\n",
      "gmail\n",
      "google\n",
      "map\n",
      "pichai\n",
      "also\n",
      "announced\n",
      "open\n",
      "sourcing\n",
      "new\n",
      "video\n",
      "codec\n",
      "vp\n",
      "google\n",
      "introduced\n",
      "new\n",
      "video\n",
      "format\n",
      "webm\n",
      "chromebook\n",
      "released\n",
      "pichai\n",
      "added\n",
      "android\n",
      "list\n",
      "google\n",
      "product\n",
      "oversaw\n",
      "pichai\n",
      "selected\n",
      "become\n",
      "next\n",
      "ceo\n",
      "google\n",
      "august\n",
      "previously\n",
      "appointed\n",
      "product\n",
      "chief\n",
      "ceo\n",
      "larry\n",
      "page\n",
      "october\n",
      "stepped\n",
      "new\n",
      "position\n",
      "completion\n",
      "formation\n",
      "alphabet\n",
      "inc\n",
      "new\n",
      "holding\n",
      "company\n",
      "google\n",
      "company\n",
      "family\n",
      "appointed\n",
      "alphabet\n",
      "board\n",
      "director\n",
      "pichai\n",
      "included\n",
      "time\n",
      "annual\n",
      "list\n",
      "influential\n",
      "people\n"
     ]
    }
   ],
   "source": [
    "# Lemmatization\n",
    "for i in corpus:\n",
    "    words = nltk.word_tokenize(i)\n",
    "    for word in words:\n",
    "        if word not in set(stopwords.words('english')):\n",
    "            print(lemmatizer.lemmatize(word))"
   ]
  },
  {
   "cell_type": "code",
   "execution_count": 66,
   "id": "fc1dff8c",
   "metadata": {},
   "outputs": [],
   "source": [
    "## apply stopwords to corpus\n",
    "\n",
    "import re\n",
    "corpus = []\n",
    "for i in range(len(sentences)):\n",
    "    review = re.sub(\"[^a-zA-Z]\",\" \",sentences[i])\n",
    "    review = review.lower()\n",
    "    review = review.split()\n",
    "    review = [ lemmatizer.lemmatize(word) for word in review if not word in set(stopwords.words('english'))]\n",
    "    review = ' '.join(review)\n",
    "    corpus.append(review)\n",
    "    \n",
    "    \n"
   ]
  },
  {
   "cell_type": "markdown",
   "id": "65e2bedf",
   "metadata": {},
   "source": [
    "## Bag of words"
   ]
  },
  {
   "cell_type": "code",
   "execution_count": 80,
   "id": "47fffc41",
   "metadata": {},
   "outputs": [],
   "source": [
    "\n",
    "from sklearn.feature_extraction.text import CountVectorizer\n",
    "cv = CountVectorizer(binary=True,ngram_range=(2,3))  ## ngram can be implemented by giving in parameters."
   ]
  },
  {
   "cell_type": "code",
   "execution_count": 81,
   "id": "0b9c67cc",
   "metadata": {},
   "outputs": [],
   "source": [
    "x = cv.fit_transform(corpus)"
   ]
  },
  {
   "cell_type": "code",
   "execution_count": 82,
   "id": "3481a67e",
   "metadata": {},
   "outputs": [
    {
     "data": {
      "text/plain": [
       "{'pichai began': 134,\n",
       " 'began career': 26,\n",
       " 'career material': 29,\n",
       " 'material engineer': 112,\n",
       " 'pichai began career': 135,\n",
       " 'began career material': 27,\n",
       " 'career material engineer': 30,\n",
       " 'following short': 61,\n",
       " 'short stint': 157,\n",
       " 'stint management': 165,\n",
       " 'management consulting': 108,\n",
       " 'consulting firm': 53,\n",
       " 'firm mckinsey': 59,\n",
       " 'mckinsey co': 113,\n",
       " 'co pichai': 44,\n",
       " 'pichai joined': 138,\n",
       " 'joined google': 97,\n",
       " 'google led': 79,\n",
       " 'led product': 102,\n",
       " 'product management': 150,\n",
       " 'management innovation': 110,\n",
       " 'innovation effort': 93,\n",
       " 'effort suite': 57,\n",
       " 'suite google': 167,\n",
       " 'google client': 72,\n",
       " 'client software': 42,\n",
       " 'software product': 159,\n",
       " 'product including': 148,\n",
       " 'including google': 90,\n",
       " 'google chrome': 70,\n",
       " 'chrome chromeos': 37,\n",
       " 'chromeos well': 40,\n",
       " 'well largely': 177,\n",
       " 'largely responsible': 99,\n",
       " 'responsible google': 153,\n",
       " 'google drive': 76,\n",
       " 'following short stint': 62,\n",
       " 'short stint management': 158,\n",
       " 'stint management consulting': 166,\n",
       " 'management consulting firm': 109,\n",
       " 'consulting firm mckinsey': 54,\n",
       " 'firm mckinsey co': 60,\n",
       " 'mckinsey co pichai': 114,\n",
       " 'co pichai joined': 45,\n",
       " 'pichai joined google': 139,\n",
       " 'joined google led': 98,\n",
       " 'google led product': 80,\n",
       " 'led product management': 103,\n",
       " 'product management innovation': 151,\n",
       " 'management innovation effort': 111,\n",
       " 'innovation effort suite': 94,\n",
       " 'effort suite google': 58,\n",
       " 'suite google client': 168,\n",
       " 'google client software': 73,\n",
       " 'client software product': 43,\n",
       " 'software product including': 160,\n",
       " 'product including google': 149,\n",
       " 'including google chrome': 91,\n",
       " 'google chrome chromeos': 71,\n",
       " 'chrome chromeos well': 38,\n",
       " 'chromeos well largely': 41,\n",
       " 'well largely responsible': 178,\n",
       " 'largely responsible google': 100,\n",
       " 'responsible google drive': 154,\n",
       " 'addition went': 2,\n",
       " 'went oversee': 179,\n",
       " 'oversee development': 128,\n",
       " 'development application': 55,\n",
       " 'application gmail': 16,\n",
       " 'gmail google': 66,\n",
       " 'google map': 81,\n",
       " 'addition went oversee': 3,\n",
       " 'went oversee development': 180,\n",
       " 'oversee development application': 129,\n",
       " 'development application gmail': 56,\n",
       " 'application gmail google': 17,\n",
       " 'gmail google map': 67,\n",
       " 'pichai also': 132,\n",
       " 'also announced': 8,\n",
       " 'announced open': 12,\n",
       " 'open sourcing': 126,\n",
       " 'sourcing new': 161,\n",
       " 'new video': 119,\n",
       " 'video codec': 171,\n",
       " 'codec vp': 46,\n",
       " 'vp google': 175,\n",
       " 'google introduced': 77,\n",
       " 'introduced new': 95,\n",
       " 'video format': 173,\n",
       " 'format webm': 63,\n",
       " 'pichai also announced': 133,\n",
       " 'also announced open': 9,\n",
       " 'announced open sourcing': 13,\n",
       " 'open sourcing new': 127,\n",
       " 'sourcing new video': 162,\n",
       " 'new video codec': 120,\n",
       " 'video codec vp': 172,\n",
       " 'codec vp google': 47,\n",
       " 'vp google introduced': 176,\n",
       " 'google introduced new': 78,\n",
       " 'introduced new video': 96,\n",
       " 'new video format': 121,\n",
       " 'video format webm': 174,\n",
       " 'chromebook released': 39,\n",
       " 'pichai added': 130,\n",
       " 'added android': 0,\n",
       " 'android list': 10,\n",
       " 'list google': 104,\n",
       " 'google product': 82,\n",
       " 'product oversaw': 152,\n",
       " 'pichai added android': 131,\n",
       " 'added android list': 1,\n",
       " 'android list google': 11,\n",
       " 'list google product': 105,\n",
       " 'google product oversaw': 83,\n",
       " 'pichai selected': 140,\n",
       " 'selected become': 155,\n",
       " 'become next': 24,\n",
       " 'next ceo': 122,\n",
       " 'ceo google': 31,\n",
       " 'google august': 68,\n",
       " 'august previously': 22,\n",
       " 'previously appointed': 144,\n",
       " 'appointed product': 20,\n",
       " 'product chief': 146,\n",
       " 'chief ceo': 35,\n",
       " 'ceo larry': 33,\n",
       " 'larry page': 101,\n",
       " 'pichai selected become': 141,\n",
       " 'selected become next': 156,\n",
       " 'become next ceo': 25,\n",
       " 'next ceo google': 123,\n",
       " 'ceo google august': 32,\n",
       " 'google august previously': 69,\n",
       " 'august previously appointed': 23,\n",
       " 'previously appointed product': 145,\n",
       " 'appointed product chief': 21,\n",
       " 'product chief ceo': 147,\n",
       " 'chief ceo larry': 36,\n",
       " 'ceo larry page': 34,\n",
       " 'october stepped': 124,\n",
       " 'stepped new': 163,\n",
       " 'new position': 117,\n",
       " 'position completion': 142,\n",
       " 'completion formation': 51,\n",
       " 'formation alphabet': 64,\n",
       " 'alphabet inc': 6,\n",
       " 'inc new': 86,\n",
       " 'new holding': 115,\n",
       " 'holding company': 84,\n",
       " 'company google': 49,\n",
       " 'google company': 74,\n",
       " 'company family': 48,\n",
       " 'october stepped new': 125,\n",
       " 'stepped new position': 164,\n",
       " 'new position completion': 118,\n",
       " 'position completion formation': 143,\n",
       " 'completion formation alphabet': 52,\n",
       " 'formation alphabet inc': 65,\n",
       " 'alphabet inc new': 7,\n",
       " 'inc new holding': 87,\n",
       " 'new holding company': 116,\n",
       " 'holding company google': 85,\n",
       " 'company google company': 50,\n",
       " 'google company family': 75,\n",
       " 'appointed alphabet': 18,\n",
       " 'alphabet board': 4,\n",
       " 'board director': 28,\n",
       " 'appointed alphabet board': 19,\n",
       " 'alphabet board director': 5,\n",
       " 'pichai included': 136,\n",
       " 'included time': 88,\n",
       " 'time annual': 169,\n",
       " 'annual list': 14,\n",
       " 'list influential': 106,\n",
       " 'influential people': 92,\n",
       " 'pichai included time': 137,\n",
       " 'included time annual': 89,\n",
       " 'time annual list': 170,\n",
       " 'annual list influential': 15,\n",
       " 'list influential people': 107}"
      ]
     },
     "execution_count": 82,
     "metadata": {},
     "output_type": "execute_result"
    }
   ],
   "source": [
    "cv.vocabulary_   ## this will tell you the feature index/number"
   ]
  },
  {
   "cell_type": "code",
   "execution_count": 83,
   "id": "94e90972",
   "metadata": {},
   "outputs": [
    {
     "data": {
      "text/plain": [
       "'pichai began career material engineer'"
      ]
     },
     "execution_count": 83,
     "metadata": {},
     "output_type": "execute_result"
    }
   ],
   "source": [
    "corpus[0]"
   ]
  },
  {
   "cell_type": "code",
   "execution_count": 84,
   "id": "46045e79",
   "metadata": {},
   "outputs": [
    {
     "data": {
      "text/plain": [
       "array([[0, 0, 0, 0, 0, 0, 0, 0, 0, 0, 0, 0, 0, 0, 0, 0, 0, 0, 0, 0, 0, 0,\n",
       "        0, 0, 0, 0, 1, 1, 0, 1, 1, 0, 0, 0, 0, 0, 0, 0, 0, 0, 0, 0, 0, 0,\n",
       "        0, 0, 0, 0, 0, 0, 0, 0, 0, 0, 0, 0, 0, 0, 0, 0, 0, 0, 0, 0, 0, 0,\n",
       "        0, 0, 0, 0, 0, 0, 0, 0, 0, 0, 0, 0, 0, 0, 0, 0, 0, 0, 0, 0, 0, 0,\n",
       "        0, 0, 0, 0, 0, 0, 0, 0, 0, 0, 0, 0, 0, 0, 0, 0, 0, 0, 0, 0, 0, 0,\n",
       "        0, 0, 1, 0, 0, 0, 0, 0, 0, 0, 0, 0, 0, 0, 0, 0, 0, 0, 0, 0, 0, 0,\n",
       "        0, 0, 1, 1, 0, 0, 0, 0, 0, 0, 0, 0, 0, 0, 0, 0, 0, 0, 0, 0, 0, 0,\n",
       "        0, 0, 0, 0, 0, 0, 0, 0, 0, 0, 0, 0, 0, 0, 0, 0, 0, 0, 0, 0, 0, 0,\n",
       "        0, 0, 0, 0, 0]])"
      ]
     },
     "execution_count": 84,
     "metadata": {},
     "output_type": "execute_result"
    }
   ],
   "source": [
    "x[0].toarray()"
   ]
  },
  {
   "cell_type": "markdown",
   "id": "8a910235",
   "metadata": {},
   "source": [
    "## TF-IDF"
   ]
  },
  {
   "cell_type": "code",
   "execution_count": 107,
   "id": "fa979ad1",
   "metadata": {},
   "outputs": [],
   "source": [
    "from sklearn.feature_extraction.text import TfidfVectorizer\n",
    "cv = TfidfVectorizer(ngram_range=(1,1),max_features=10) # features that are top 3 present\n",
    "X = cv.fit_transform(corpus)"
   ]
  },
  {
   "cell_type": "code",
   "execution_count": 110,
   "id": "d120c5e0",
   "metadata": {},
   "outputs": [
    {
     "data": {
      "text/plain": [
       "'following short stint management consulting firm mckinsey co pichai joined google led product management innovation effort suite google client software product including google chrome chromeos well largely responsible google drive'"
      ]
     },
     "execution_count": 110,
     "metadata": {},
     "output_type": "execute_result"
    }
   ],
   "source": [
    "corpus[1]"
   ]
  },
  {
   "cell_type": "code",
   "execution_count": 111,
   "id": "74872ed7",
   "metadata": {},
   "outputs": [
    {
     "data": {
      "text/plain": [
       "array([[0.        , 0.        , 0.        , 0.65232416, 0.        ,\n",
       "        0.59166222, 0.        , 0.16308104, 0.44476238, 0.        ]])"
      ]
     },
     "execution_count": 111,
     "metadata": {},
     "output_type": "execute_result"
    }
   ],
   "source": [
    "X[1].toarray()"
   ]
  },
  {
   "cell_type": "code",
   "execution_count": null,
   "id": "88dab54e",
   "metadata": {},
   "outputs": [],
   "source": []
  }
 ],
 "metadata": {
  "kernelspec": {
   "display_name": "Python 3 (ipykernel)",
   "language": "python",
   "name": "python3"
  },
  "language_info": {
   "codemirror_mode": {
    "name": "ipython",
    "version": 3
   },
   "file_extension": ".py",
   "mimetype": "text/x-python",
   "name": "python",
   "nbconvert_exporter": "python",
   "pygments_lexer": "ipython3",
   "version": "3.10.9"
  }
 },
 "nbformat": 4,
 "nbformat_minor": 5
}
